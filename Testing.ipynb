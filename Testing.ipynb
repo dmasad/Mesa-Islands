{
 "cells": [
  {
   "cell_type": "code",
   "execution_count": 1,
   "metadata": {},
   "outputs": [],
   "source": [
    "import numpy as np\n",
    "import matplotlib.pyplot as plt\n",
    "%matplotlib inline"
   ]
  },
  {
   "cell_type": "code",
   "execution_count": 2,
   "metadata": {},
   "outputs": [],
   "source": [
    "from island_model import WorldModel, Island, IslandCell"
   ]
  },
  {
   "cell_type": "code",
   "execution_count": 3,
   "metadata": {},
   "outputs": [],
   "source": [
    "model = WorldModel(n_islands=12, land_fraction=0.25)"
   ]
  },
  {
   "cell_type": "code",
   "execution_count": 4,
   "metadata": {},
   "outputs": [
    {
     "data": {
      "text/plain": [
       "<matplotlib.collections.PathCollection at 0x216071e0588>"
      ]
     },
     "execution_count": 4,
     "metadata": {},
     "output_type": "execute_result"
    },
    {
     "data": {
      "image/png": "[encoded data removed]",
      "text/plain": [
       "<Figure size 432x432 with 1 Axes>"
      ]
     },
     "metadata": {},
     "output_type": "display_data"
    }
   ],
   "source": [
    "sea_coords = []\n",
    "land_coords = []\n",
    "for contents, x, y in model.grid.coord_iter():\n",
    "    if contents[\"Land\"] is None:\n",
    "        sea_coords.append((x, y))\n",
    "    else:\n",
    "        land_coords.append((x, y))\n",
    "\n",
    "fig, ax = plt.subplots(figsize=(6,6))\n",
    "\n",
    "ax.scatter(*zip(*sea_coords), s=10, c='LightCyan')\n",
    "ax.scatter(*zip(*land_coords), s=10, c='Peru')"
   ]
  },
  {
   "cell_type": "code",
   "execution_count": 5,
   "metadata": {},
   "outputs": [
    {
     "data": {
      "text/plain": [
       "{'Land': None, 'People': set()}"
      ]
     },
     "execution_count": 5,
     "metadata": {},
     "output_type": "execute_result"
    }
   ],
   "source": [
    "contents"
   ]
  },
  {
   "cell_type": "code",
   "execution_count": 6,
   "metadata": {},
   "outputs": [
    {
     "name": "stdout",
     "output_type": "stream",
     "text": [
      "Ociwsi\n",
      "Yvlak\n",
      "Pidiy\n",
      "Mefue\n",
      "Obyit\n",
      "Koheyz\n",
      "Unybea\n",
      "Iyyve\n",
      "Doehxy\n",
      "Ukyle\n",
      "Leymav\n",
      "Ecuql\n",
      "Ynuco\n",
      "Aaroa\n",
      "Qyapr\n",
      "Ozcyy\n",
      "Iguva\n",
      "Ozuir\n",
      "Ydroy\n",
      "Iniira\n",
      "Caineg\n",
      "Uhsyh\n",
      "Daacyh\n",
      "Eoeity\n",
      "Miugt\n",
      "Izyiv\n",
      "Vyimq\n",
      "Itgie\n",
      "Epocow\n",
      "Vayxhe\n",
      "Iecuwa\n",
      "Icepai\n",
      "Sexyj\n",
      "Zuaeme\n",
      "Uhyay\n",
      "Unompy\n",
      "Ounano\n",
      "Inasuz\n",
      "Yiaccy\n",
      "Dapii\n",
      "Buuco\n",
      "Ieozh\n",
      "Avvyga\n",
      "Ozoqyk\n",
      "Eicyb\n",
      "Arhoo\n",
      "Ocefyb\n",
      "Nyimby\n",
      "Ribea\n",
      "Yiegfy\n",
      "Iqocty\n",
      "Heimn\n",
      "Rihey\n",
      "Juieig\n",
      "Dyukao\n",
      "Yrewak\n",
      "Dagey\n",
      "Xebia\n",
      "Ycacmo\n",
      "Ymyyo\n",
      "Ycegqa\n",
      "Jayqo\n",
      "Agpija\n",
      "Ouqumi\n",
      "Ylibto\n",
      "Eqwac\n",
      "Woraa\n",
      "Ocavz\n",
      "Luzil\n",
      "Asripa\n",
      "Ukedyz\n",
      "Xijaei\n",
      "Ajtyni\n",
      "Upejle\n",
      "Camoa\n",
      "Tasoo\n",
      "Polyu\n",
      "Okzif\n",
      "Wouxe\n",
      "Avcyz\n",
      "Ehtiq\n",
      "Azaqe\n",
      "Yhigyf\n",
      "Epihh\n",
      "Komuen\n",
      "Aiekuf\n",
      "Ufuej\n",
      "Ejvui\n",
      "Asfeap\n",
      "Nitihi\n",
      "Igtyad\n",
      "Oaouyx\n",
      "Jiyee\n",
      "Fidaiu\n",
      "Xuroe\n",
      "Yqowe\n",
      "Ozegz\n",
      "Oxxaye\n",
      "Ujwau\n",
      "Winyh\n"
     ]
    }
   ],
   "source": [
    "for agent in model.schedule.agents:\n",
    "    print(agent.name)"
   ]
  },
  {
   "cell_type": "code",
   "execution_count": 8,
   "metadata": {},
   "outputs": [],
   "source": [
    "model.step()"
   ]
  },
  {
   "cell_type": "code",
   "execution_count": null,
   "metadata": {},
   "outputs": [],
   "source": []
  }
 ],
 "metadata": {
  "kernelspec": {
   "display_name": "Python [conda env:mesa]",
   "language": "python",
   "name": "conda-env-mesa-py"
  },
  "language_info": {
   "codemirror_mode": {
    "name": "ipython",
    "version": 3
   },
   "file_extension": ".py",
   "mimetype": "text/x-python",
   "name": "python",
   "nbconvert_exporter": "python",
   "pygments_lexer": "ipython3",
   "version": "3.6.6"
  }
 },
 "nbformat": 4,
 "nbformat_minor": 2
}

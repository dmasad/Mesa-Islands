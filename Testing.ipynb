{
 "cells": [
  {
   "cell_type": "code",
   "execution_count": 1,
   "metadata": {},
   "outputs": [],
   "source": [
    "import numpy as np\n",
    "import matplotlib.pyplot as plt\n",
    "%matplotlib inline"
   ]
  },
  {
   "cell_type": "code",
   "execution_count": 2,
   "metadata": {},
   "outputs": [],
   "source": [
    "from island_model import WorldModel, Island, IslandCell"
   ]
  },
  {
   "cell_type": "code",
   "execution_count": 3,
   "metadata": {},
   "outputs": [],
   "source": [
    "model = WorldModel(n_islands=12, land_fraction=0.25)"
   ]
  },
  {
   "cell_type": "code",
   "execution_count": 4,
   "metadata": {},
   "outputs": [
    {
     "data": {
      "text/plain": [
       "<matplotlib.collections.PathCollection at 0x20996bb4128>"
      ]
     },
     "execution_count": 4,
     "metadata": {},
     "output_type": "execute_result"
    },
    {
     "data": {
      "image/png": "[encoded data removed]",
      "text/plain": [
       "<Figure size 432x432 with 1 Axes>"
      ]
     },
     "metadata": {},
     "output_type": "display_data"
    }
   ],
   "source": [
    "sea_coords = []\n",
    "land_coords = []\n",
    "for contents, x, y in model.grid.coord_iter():\n",
    "    if len(contents) > 0:\n",
    "        land_coords.append((x, y))\n",
    "    else:\n",
    "        sea_coords.append((x, y))\n",
    "\n",
    "fig, ax = plt.subplots(figsize=(6,6))\n",
    "\n",
    "ax.scatter(*zip(*sea_coords), s=10, c='LightCyan')\n",
    "ax.scatter(*zip(*land_coords), s=10, c='Peru')"
   ]
  },
  {
   "cell_type": "code",
   "execution_count": 5,
   "metadata": {},
   "outputs": [
    {
     "name": "stdout",
     "output_type": "stream",
     "text": [
      "Oharub\n",
      "Tault\n",
      "Oiyiyv\n",
      "Itcuo\n",
      "Epzudy\n",
      "Japyq\n",
      "Taeci\n",
      "Ufruto\n",
      "Eptaba\n",
      "Attae\n",
      "Eptau\n",
      "Yeigni\n",
      "Piixin\n",
      "Unepb\n",
      "Giyado\n",
      "Oaecpy\n",
      "Talyt\n",
      "Wepyp\n",
      "Ostata\n",
      "Uxepb\n",
      "Takiuo\n",
      "Ectayv\n",
      "Dyepuo\n",
      "Ahtau\n",
      "Puaevo\n",
      "Sauhly\n",
      "Eyejod\n",
      "Uftata\n",
      "Aaoxt\n",
      "Tataox\n",
      "Xobig\n",
      "Uqeik\n",
      "Akojo\n",
      "Ultaar\n",
      "Liacn\n",
      "Empoyh\n",
      "Amywaj\n",
      "Jyoli\n",
      "Uetat\n",
      "Uyepet\n",
      "Epeaiw\n",
      "Eseca\n",
      "Ymicja\n",
      "Odtae\n",
      "Olzusy\n",
      "Urtady\n",
      "Tayveh\n",
      "Nyiwx\n",
      "Puybp\n",
      "Tahut\n",
      "Yztafu\n",
      "Olyiu\n",
      "Ihrue\n",
      "Ycaxa\n",
      "Ijgat\n",
      "Ycarta\n",
      "Egoft\n",
      "Taawb\n",
      "Tauczy\n",
      "Uouty\n",
      "Igiuo\n",
      "Epukyc\n",
      "Jatae\n",
      "Erepja\n",
      "Osiofu\n",
      "Taolud\n",
      "Uqzyol\n",
      "Alepo\n",
      "Akyue\n",
      "Epsat\n",
      "Putaec\n",
      "Taniq\n",
      "Suunta\n",
      "Utcayp\n",
      "Bynio\n",
      "Utepko\n",
      "Ywekih\n",
      "Hitata\n",
      "Ovjata\n",
      "Uoaler\n",
      "Bygoy\n",
      "Dicyz\n",
      "Jatato\n",
      "Estav\n",
      "Ixetg\n",
      "Tanip\n",
      "Iqxeta\n",
      "Voicxu\n",
      "Taasa\n",
      "Emeco\n",
      "Yiolq\n",
      "Oeoib\n",
      "Ybqigi\n",
      "Ekoae\n",
      "Ekinvu\n",
      "Owqiiq\n",
      "Lytae\n",
      "Odyjzu\n",
      "Ybepi\n",
      "Vuiosy\n"
     ]
    }
   ],
   "source": [
    "for agent in model.schedule.agents:\n",
    "    print(agent.name)"
   ]
  },
  {
   "cell_type": "code",
   "execution_count": 6,
   "metadata": {},
   "outputs": [],
   "source": [
    "model.step()"
   ]
  },
  {
   "cell_type": "code",
   "execution_count": null,
   "metadata": {},
   "outputs": [],
   "source": []
  }
 ],
 "metadata": {
  "kernelspec": {
   "display_name": "Python [conda env:mesa]",
   "language": "python",
   "name": "conda-env-mesa-py"
  },
  "language_info": {
   "codemirror_mode": {
    "name": "ipython",
    "version": 3
   },
   "file_extension": ".py",
   "mimetype": "text/x-python",
   "name": "python",
   "nbconvert_exporter": "python",
   "pygments_lexer": "ipython3",
   "version": "3.6.6"
  }
 },
 "nbformat": 4,
 "nbformat_minor": 2
}
